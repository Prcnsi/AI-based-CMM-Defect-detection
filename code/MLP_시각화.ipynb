{
  "nbformat": 4,
  "nbformat_minor": 0,
  "metadata": {
    "colab": {
      "provenance": []
    },
    "kernelspec": {
      "name": "python3",
      "display_name": "Python 3"
    },
    "language_info": {
      "name": "python"
    }
  },
  "cells": [
    {
      "cell_type": "markdown",
      "source": [
        "## 패키지 불러오기"
      ],
      "metadata": {
        "id": "WxdyW1gu85s2"
      }
    },
    {
      "cell_type": "code",
      "source": [
        "import pandas as pd\n",
        "import matplotlib.pyplot as plt\n",
        "from sklearn.impute import SimpleImputer\n",
        "from sklearn.metrics import classification_report\n",
        "\n",
        "from sklearn.neural_network import MLPClassifier\n",
        "from sklearn.model_selection import train_test_split\n",
        "from sklearn.metrics import accuracy_score\n",
        "\n",
        "from sklearn.cluster import KMeans\n",
        "from sklearn.metrics import silhouette_score\n",
        "\n",
        "from sklearn.neighbors import KNeighborsClassifier\n",
        "\n",
        "from sklearn.svm import SVC\n",
        "\n",
        "import numpy as np"
      ],
      "metadata": {
        "id": "RQ8DTyhaFgo7"
      },
      "execution_count": null,
      "outputs": []
    },
    {
      "cell_type": "markdown",
      "source": [
        "## 파일 로드 및 확인"
      ],
      "metadata": {
        "id": "JWWyslJr4rIh"
      }
    },
    {
      "cell_type": "code",
      "source": [
        "# 파일 경로\n",
        "file_path = '/content/cmm_data.csv'\n",
        "\n",
        "# 데이터 불러오기\n",
        "data = pd.read_csv(file_path, encoding='cp949')"
      ],
      "metadata": {
        "id": "FX-8t4RyPCpg"
      },
      "execution_count": null,
      "outputs": []
    },
    {
      "cell_type": "code",
      "source": [
        "# 결측치 및 데이터 타입 확인\n",
        "missing_values = data.isnull().sum()\n",
        "data_types = data.dtypes\n",
        "\n",
        "missing_values, data_types"
      ],
      "metadata": {
        "id": "t-AxkjTzPQas",
        "outputId": "824c3800-28bd-4e6f-f726-910553de09de",
        "colab": {
          "base_uri": "https://localhost:8080/"
        }
      },
      "execution_count": null,
      "outputs": [
        {
          "output_type": "execute_result",
          "data": {
            "text/plain": [
              "(파일명                                    0\n",
              " 평면1,평면도                                0\n",
              " 원1(I) <상>,D                            0\n",
              " 원2(I) <중>,D                            0\n",
              " 원3(I) <하>,D                            0\n",
              "                                       ..\n",
              " 점30 <- 점18의 되부름 <소재원점>,Y               0\n",
              " 직선25 <- 직선18의 되부름,X/Y                  0\n",
              " 직선26 <- 직선16의 되부름,X/Y                  0\n",
              " 거리4 <- XAXIS[평균]:점32와 점31 <소재기준>,DS    0\n",
              " 품질상태                                   0\n",
              " Length: 67, dtype: int64,\n",
              " 파일명                                     object\n",
              " 평면1,평면도                                float64\n",
              " 원1(I) <상>,D                            float64\n",
              " 원2(I) <중>,D                            float64\n",
              " 원3(I) <하>,D                            float64\n",
              "                                         ...   \n",
              " 점30 <- 점18의 되부름 <소재원점>,Y               float64\n",
              " 직선25 <- 직선18의 되부름,X/Y                  float64\n",
              " 직선26 <- 직선16의 되부름,X/Y                  float64\n",
              " 거리4 <- XAXIS[평균]:점32와 점31 <소재기준>,DS    float64\n",
              " 품질상태                                     int64\n",
              " Length: 67, dtype: object)"
            ]
          },
          "metadata": {},
          "execution_count": 36
        }
      ]
    },
    {
      "cell_type": "code",
      "source": [
        "# '파일명' 열 제외\n",
        "data_numeric = data.drop(columns=['파일명'])\n",
        "\n",
        "# 결측치를 평균값으로 대체\n",
        "imputer = SimpleImputer(strategy='mean')\n",
        "data_imputed = imputer.fit_transform(data_numeric)\n",
        "\n",
        "# 데이터프레임으로 변환\n",
        "data_imputed = pd.DataFrame(data_imputed, columns=data_numeric.columns)"
      ],
      "metadata": {
        "id": "Zj1oAyinxYft"
      },
      "execution_count": null,
      "outputs": []
    },
    {
      "cell_type": "code",
      "source": [
        "# 독립 변수와 종속 변수 분리\n",
        "X = data_imputed.drop(columns=['품질상태'])\n",
        "y = data_imputed['품질상태']"
      ],
      "metadata": {
        "id": "OzURrbKuAVD_"
      },
      "execution_count": null,
      "outputs": []
    },
    {
      "cell_type": "markdown",
      "source": [
        "## 여러 모델 학습(MLP, Clustering, KNN, SVM)"
      ],
      "metadata": {
        "id": "ZNRJzwzq-w9u"
      }
    },
    {
      "cell_type": "markdown",
      "source": [
        "### MLP(다층 퍼셉트론)"
      ],
      "metadata": {
        "id": "FDOPvPFC4v3i"
      }
    },
    {
      "cell_type": "code",
      "source": [
        "# 데이터를 훈련 세트와 테스트 세트로 분할\n",
        "X_train, X_test, y_train, y_test = train_test_split(X, y, test_size=0.2, random_state=42)"
      ],
      "metadata": {
        "id": "oFCONI9D_lPy"
      },
      "execution_count": null,
      "outputs": []
    },
    {
      "cell_type": "code",
      "source": [
        "# MLP 모델 생성 및 훈련\n",
        "mlp_model = MLPClassifier(hidden_layer_sizes=(100,50), activation='relu', solver='adam', max_iter=1000, random_state=42)\n",
        "mlp_model.fit(X_train, y_train)"
      ],
      "metadata": {
        "colab": {
          "base_uri": "https://localhost:8080/",
          "height": 75
        },
        "id": "GjXrrruIAXqY",
        "outputId": "ff143465-e6db-4e0e-be0d-41c86c5767d9"
      },
      "execution_count": null,
      "outputs": [
        {
          "output_type": "execute_result",
          "data": {
            "text/plain": [
              "MLPClassifier(hidden_layer_sizes=(100, 50), max_iter=1000, random_state=42)"
            ],
            "text/html": [
              "<style>#sk-container-id-5 {color: black;background-color: white;}#sk-container-id-5 pre{padding: 0;}#sk-container-id-5 div.sk-toggleable {background-color: white;}#sk-container-id-5 label.sk-toggleable__label {cursor: pointer;display: block;width: 100%;margin-bottom: 0;padding: 0.3em;box-sizing: border-box;text-align: center;}#sk-container-id-5 label.sk-toggleable__label-arrow:before {content: \"▸\";float: left;margin-right: 0.25em;color: #696969;}#sk-container-id-5 label.sk-toggleable__label-arrow:hover:before {color: black;}#sk-container-id-5 div.sk-estimator:hover label.sk-toggleable__label-arrow:before {color: black;}#sk-container-id-5 div.sk-toggleable__content {max-height: 0;max-width: 0;overflow: hidden;text-align: left;background-color: #f0f8ff;}#sk-container-id-5 div.sk-toggleable__content pre {margin: 0.2em;color: black;border-radius: 0.25em;background-color: #f0f8ff;}#sk-container-id-5 input.sk-toggleable__control:checked~div.sk-toggleable__content {max-height: 200px;max-width: 100%;overflow: auto;}#sk-container-id-5 input.sk-toggleable__control:checked~label.sk-toggleable__label-arrow:before {content: \"▾\";}#sk-container-id-5 div.sk-estimator input.sk-toggleable__control:checked~label.sk-toggleable__label {background-color: #d4ebff;}#sk-container-id-5 div.sk-label input.sk-toggleable__control:checked~label.sk-toggleable__label {background-color: #d4ebff;}#sk-container-id-5 input.sk-hidden--visually {border: 0;clip: rect(1px 1px 1px 1px);clip: rect(1px, 1px, 1px, 1px);height: 1px;margin: -1px;overflow: hidden;padding: 0;position: absolute;width: 1px;}#sk-container-id-5 div.sk-estimator {font-family: monospace;background-color: #f0f8ff;border: 1px dotted black;border-radius: 0.25em;box-sizing: border-box;margin-bottom: 0.5em;}#sk-container-id-5 div.sk-estimator:hover {background-color: #d4ebff;}#sk-container-id-5 div.sk-parallel-item::after {content: \"\";width: 100%;border-bottom: 1px solid gray;flex-grow: 1;}#sk-container-id-5 div.sk-label:hover label.sk-toggleable__label {background-color: #d4ebff;}#sk-container-id-5 div.sk-serial::before {content: \"\";position: absolute;border-left: 1px solid gray;box-sizing: border-box;top: 0;bottom: 0;left: 50%;z-index: 0;}#sk-container-id-5 div.sk-serial {display: flex;flex-direction: column;align-items: center;background-color: white;padding-right: 0.2em;padding-left: 0.2em;position: relative;}#sk-container-id-5 div.sk-item {position: relative;z-index: 1;}#sk-container-id-5 div.sk-parallel {display: flex;align-items: stretch;justify-content: center;background-color: white;position: relative;}#sk-container-id-5 div.sk-item::before, #sk-container-id-5 div.sk-parallel-item::before {content: \"\";position: absolute;border-left: 1px solid gray;box-sizing: border-box;top: 0;bottom: 0;left: 50%;z-index: -1;}#sk-container-id-5 div.sk-parallel-item {display: flex;flex-direction: column;z-index: 1;position: relative;background-color: white;}#sk-container-id-5 div.sk-parallel-item:first-child::after {align-self: flex-end;width: 50%;}#sk-container-id-5 div.sk-parallel-item:last-child::after {align-self: flex-start;width: 50%;}#sk-container-id-5 div.sk-parallel-item:only-child::after {width: 0;}#sk-container-id-5 div.sk-dashed-wrapped {border: 1px dashed gray;margin: 0 0.4em 0.5em 0.4em;box-sizing: border-box;padding-bottom: 0.4em;background-color: white;}#sk-container-id-5 div.sk-label label {font-family: monospace;font-weight: bold;display: inline-block;line-height: 1.2em;}#sk-container-id-5 div.sk-label-container {text-align: center;}#sk-container-id-5 div.sk-container {/* jupyter's `normalize.less` sets `[hidden] { display: none; }` but bootstrap.min.css set `[hidden] { display: none !important; }` so we also need the `!important` here to be able to override the default hidden behavior on the sphinx rendered scikit-learn.org. See: https://github.com/scikit-learn/scikit-learn/issues/21755 */display: inline-block !important;position: relative;}#sk-container-id-5 div.sk-text-repr-fallback {display: none;}</style><div id=\"sk-container-id-5\" class=\"sk-top-container\"><div class=\"sk-text-repr-fallback\"><pre>MLPClassifier(hidden_layer_sizes=(100, 50), max_iter=1000, random_state=42)</pre><b>In a Jupyter environment, please rerun this cell to show the HTML representation or trust the notebook. <br />On GitHub, the HTML representation is unable to render, please try loading this page with nbviewer.org.</b></div><div class=\"sk-container\" hidden><div class=\"sk-item\"><div class=\"sk-estimator sk-toggleable\"><input class=\"sk-toggleable__control sk-hidden--visually\" id=\"sk-estimator-id-5\" type=\"checkbox\" checked><label for=\"sk-estimator-id-5\" class=\"sk-toggleable__label sk-toggleable__label-arrow\">MLPClassifier</label><div class=\"sk-toggleable__content\"><pre>MLPClassifier(hidden_layer_sizes=(100, 50), max_iter=1000, random_state=42)</pre></div></div></div></div></div>"
            ]
          },
          "metadata": {},
          "execution_count": 40
        }
      ]
    },
    {
      "cell_type": "markdown",
      "source": [
        "예측"
      ],
      "metadata": {
        "id": "4NWzflTm4zL5"
      }
    },
    {
      "cell_type": "code",
      "source": [
        "# 테스트 세트에서 예측\n",
        "mlp_y_pred = mlp_model.predict(X_test)"
      ],
      "metadata": {
        "id": "YEj02dufAZR6"
      },
      "execution_count": null,
      "outputs": []
    },
    {
      "cell_type": "markdown",
      "source": [
        "평가"
      ],
      "metadata": {
        "id": "CWcfk2kF40be"
      }
    },
    {
      "cell_type": "code",
      "source": [
        "# 모델 평가\n",
        "mlp_accuracy = accuracy_score(y_test, mlp_y_pred)\n",
        "mlp_report = classification_report(y_test, mlp_y_pred)"
      ],
      "metadata": {
        "id": "Jbt5C6o9AatO",
        "colab": {
          "base_uri": "https://localhost:8080/"
        },
        "outputId": "e4a094eb-471c-4fc0-d4c8-109ca5ae90b3"
      },
      "execution_count": null,
      "outputs": [
        {
          "output_type": "stream",
          "name": "stderr",
          "text": [
            "/usr/local/lib/python3.10/dist-packages/sklearn/metrics/_classification.py:1344: UndefinedMetricWarning: Precision and F-score are ill-defined and being set to 0.0 in labels with no predicted samples. Use `zero_division` parameter to control this behavior.\n",
            "  _warn_prf(average, modifier, msg_start, len(result))\n",
            "/usr/local/lib/python3.10/dist-packages/sklearn/metrics/_classification.py:1344: UndefinedMetricWarning: Precision and F-score are ill-defined and being set to 0.0 in labels with no predicted samples. Use `zero_division` parameter to control this behavior.\n",
            "  _warn_prf(average, modifier, msg_start, len(result))\n",
            "/usr/local/lib/python3.10/dist-packages/sklearn/metrics/_classification.py:1344: UndefinedMetricWarning: Precision and F-score are ill-defined and being set to 0.0 in labels with no predicted samples. Use `zero_division` parameter to control this behavior.\n",
            "  _warn_prf(average, modifier, msg_start, len(result))\n"
          ]
        }
      ]
    },
    {
      "cell_type": "code",
      "source": [
        "print(\"MLP Accuracy: \", mlp_accuracy, \"\\n\")\n",
        "print(mlp_report)"
      ],
      "metadata": {
        "colab": {
          "base_uri": "https://localhost:8080/"
        },
        "id": "SZbYIXoUAb_2",
        "outputId": "30f8a8e5-4de5-4efc-c43f-a82ba878ed7e"
      },
      "execution_count": null,
      "outputs": [
        {
          "output_type": "stream",
          "name": "stdout",
          "text": [
            "MLP Accuracy:  0.6737588652482269 \n",
            "\n",
            "              precision    recall  f1-score   support\n",
            "\n",
            "         0.0       0.67      1.00      0.81        95\n",
            "         1.0       0.00      0.00      0.00        46\n",
            "\n",
            "    accuracy                           0.67       141\n",
            "   macro avg       0.34      0.50      0.40       141\n",
            "weighted avg       0.45      0.67      0.54       141\n",
            "\n"
          ]
        }
      ]
    },
    {
      "cell_type": "markdown",
      "source": [
        "시각화"
      ],
      "metadata": {
        "id": "qMV8uKc-jdbl"
      }
    },
    {
      "cell_type": "code",
      "source": [],
      "metadata": {
        "id": "IDoFfnYsjfWJ"
      },
      "execution_count": null,
      "outputs": []
    }
  ]
}
