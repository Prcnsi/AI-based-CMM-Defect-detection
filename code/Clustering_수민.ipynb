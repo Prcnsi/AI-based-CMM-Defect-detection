{
  "nbformat": 4,
  "nbformat_minor": 0,
  "metadata": {
    "colab": {
      "provenance": [],
      "collapsed_sections": [
        "JWWyslJr4rIh"
      ]
    },
    "kernelspec": {
      "name": "python3",
      "display_name": "Python 3"
    },
    "language_info": {
      "name": "python"
    }
  },
  "cells": [
    {
      "cell_type": "markdown",
      "source": [
        "## 패키지 불러오기"
      ],
      "metadata": {
        "id": "WxdyW1gu85s2"
      }
    },
    {
      "cell_type": "code",
      "source": [
        "from sklearn.metrics import classification_report\n",
        "import pandas as pd\n",
        "import numpy as np\n",
        "import matplotlib.pyplot as plt\n",
        "from sklearn.impute import SimpleImputer\n",
        "from sklearn.model_selection import train_test_split\n",
        "from sklearn.preprocessing import StandardScaler\n",
        "from sklearn.cluster import KMeans\n",
        "from sklearn.metrics import silhouette_score, silhouette_samples\n",
        "from sklearn.metrics import accuracy_score, classification_report, confusion_matrix\n",
        "import seaborn as sns"
      ],
      "metadata": {
        "id": "RQ8DTyhaFgo7"
      },
      "execution_count": null,
      "outputs": []
    },
    {
      "cell_type": "markdown",
      "source": [
        "## 파일 로드 및 확인"
      ],
      "metadata": {
        "id": "JWWyslJr4rIh"
      }
    },
    {
      "cell_type": "code",
      "source": [
        "# 파일 경로\n",
        "file_path = '/content/cmm_data.csv'\n",
        "\n",
        "# 데이터 불러오기\n",
        "data = pd.read_csv(file_path, encoding='cp949')"
      ],
      "metadata": {
        "id": "FX-8t4RyPCpg"
      },
      "execution_count": null,
      "outputs": []
    },
    {
      "cell_type": "code",
      "source": [
        "# 결측치 및 데이터 타입 확인\n",
        "missing_values = data.isnull().sum()\n",
        "data_types = data.dtypes\n",
        "\n",
        "missing_values, data_types"
      ],
      "metadata": {
        "id": "t-AxkjTzPQas",
        "outputId": "fb79391b-a4a1-4095-8f8e-941eab03c901",
        "colab": {
          "base_uri": "https://localhost:8080/"
        }
      },
      "execution_count": null,
      "outputs": [
        {
          "output_type": "execute_result",
          "data": {
            "text/plain": [
              "(파일명                                    0\n",
              " 평면1,평면도                                0\n",
              " 원1(I) <상>,D                            0\n",
              " 원2(I) <중>,D                            0\n",
              " 원3(I) <하>,D                            0\n",
              "                                       ..\n",
              " 점30 <- 점18의 되부름 <소재원점>,Y               0\n",
              " 직선25 <- 직선18의 되부름,X/Y                  0\n",
              " 직선26 <- 직선16의 되부름,X/Y                  0\n",
              " 거리4 <- XAXIS[평균]:점32와 점31 <소재기준>,DS    0\n",
              " 품질상태                                   0\n",
              " Length: 67, dtype: int64,\n",
              " 파일명                                     object\n",
              " 평면1,평면도                                float64\n",
              " 원1(I) <상>,D                            float64\n",
              " 원2(I) <중>,D                            float64\n",
              " 원3(I) <하>,D                            float64\n",
              "                                         ...   \n",
              " 점30 <- 점18의 되부름 <소재원점>,Y               float64\n",
              " 직선25 <- 직선18의 되부름,X/Y                  float64\n",
              " 직선26 <- 직선16의 되부름,X/Y                  float64\n",
              " 거리4 <- XAXIS[평균]:점32와 점31 <소재기준>,DS    float64\n",
              " 품질상태                                     int64\n",
              " Length: 67, dtype: object)"
            ]
          },
          "metadata": {},
          "execution_count": 3
        }
      ]
    },
    {
      "cell_type": "code",
      "source": [
        "# '파일명' 열 제외\n",
        "data_numeric = data.drop(columns=['파일명'])\n",
        "\n",
        "# 결측치를 평균값으로 대체\n",
        "imputer = SimpleImputer(strategy='mean')\n",
        "data_imputed = imputer.fit_transform(data_numeric)\n",
        "\n",
        "# 데이터프레임으로 변환\n",
        "data_imputed = pd.DataFrame(data_imputed, columns=data_numeric.columns)"
      ],
      "metadata": {
        "id": "Zj1oAyinxYft"
      },
      "execution_count": null,
      "outputs": []
    },
    {
      "cell_type": "code",
      "source": [
        "# 독립 변수와 종속 변수 분리\n",
        "X = data_imputed.drop(columns=['품질상태'])\n",
        "y = data_imputed['품질상태']"
      ],
      "metadata": {
        "id": "OzURrbKuAVD_"
      },
      "execution_count": null,
      "outputs": []
    },
    {
      "cell_type": "code",
      "source": [
        "data_imputed"
      ],
      "metadata": {
        "colab": {
          "base_uri": "https://localhost:8080/",
          "height": 510
        },
        "id": "4IViYqqjYUpR",
        "outputId": "f980498e-d0d3-4902-87db-82859f2f74de"
      },
      "execution_count": null,
      "outputs": [
        {
          "output_type": "execute_result",
          "data": {
            "text/plain": [
              "     평면1,평면도  원1(I) <상>,D  원2(I) <중>,D  원3(I) <하>,D  \\\n",
              "0     0.0260       0.0260       0.0260       0.0260   \n",
              "1     0.0375       0.0375       0.0375       0.0375   \n",
              "2     0.0280       0.0280       0.0280       0.0280   \n",
              "3     0.0215       0.0215       0.0215       0.0215   \n",
              "4     0.0060       0.0060       0.0060       0.0060   \n",
              "..       ...          ...          ...          ...   \n",
              "697   0.0250       0.0250       0.0250       0.0250   \n",
              "698   0.0170       0.0170       0.0170       0.0170   \n",
              "699   0.0100       0.0100       0.0100       0.0100   \n",
              "700   0.0145       0.0145       0.0145       0.0145   \n",
              "701   0.0625       0.0625       0.0625       0.0625   \n",
              "\n",
              "     원통1(I) <- 원1, 원2, 원3의 측정점 병합,D  원통1(I) <- 원1, 원2, 원3의 측정점 병합,원통도  \\\n",
              "0                            0.0260                            0.0260   \n",
              "1                            0.0375                            0.0375   \n",
              "2                            0.0280                            0.0280   \n",
              "3                            0.0215                            0.0215   \n",
              "4                            0.0060                            0.0060   \n",
              "..                              ...                               ...   \n",
              "697                          0.0250                            0.0250   \n",
              "698                          0.0170                            0.0170   \n",
              "699                          0.0100                            0.0100   \n",
              "700                          0.0145                            0.0145   \n",
              "701                          0.0625                            0.0625   \n",
              "\n",
              "     원통1(I) <- 원1, 원2, 원3의 측정점 병합,직각도  \\\n",
              "0                              0.0260   \n",
              "1                              0.0375   \n",
              "2                              0.0280   \n",
              "3                              0.0215   \n",
              "4                              0.0060   \n",
              "..                                ...   \n",
              "697                            0.0250   \n",
              "698                            0.0170   \n",
              "699                            0.0100   \n",
              "700                            0.0145   \n",
              "701                            0.0625   \n",
              "\n",
              "     점2 <- 점1의 되부름 <열전 관리치수(Spec : 116.6±0.1)>,X  \\\n",
              "0                                         0.0260   \n",
              "1                                         0.0375   \n",
              "2                                         0.0280   \n",
              "3                                         0.0215   \n",
              "4                                         0.0060   \n",
              "..                                           ...   \n",
              "697                                       0.0250   \n",
              "698                                       0.0170   \n",
              "699                                       0.0100   \n",
              "700                                       0.0145   \n",
              "701                                       0.0625   \n",
              "\n",
              "     점2 <- 점1의 되부름 <열전 관리치수(Spec : 116.6±0.1)>,Y  \\\n",
              "0                                         0.0260   \n",
              "1                                         0.0375   \n",
              "2                                         0.0280   \n",
              "3                                         0.0215   \n",
              "4                                         0.0060   \n",
              "..                                           ...   \n",
              "697                                       0.0250   \n",
              "698                                       0.0170   \n",
              "699                                       0.0100   \n",
              "700                                       0.0145   \n",
              "701                                       0.0625   \n",
              "\n",
              "     각도1 <- 각도[XYPLAN]:직선2와 직선3,Ang  ...  점28 <- 점27의 되부름 <소재 원점>,Y  \\\n",
              "0                            0.0260  ...                     0.0260   \n",
              "1                            0.0375  ...                     0.0375   \n",
              "2                            0.0280  ...                     0.0280   \n",
              "3                            0.0215  ...                     0.0215   \n",
              "4                            0.0060  ...                     0.0060   \n",
              "..                              ...  ...                        ...   \n",
              "697                          0.0250  ...                     0.0250   \n",
              "698                          0.0170  ...                     0.0170   \n",
              "699                          0.0100  ...                     0.0100   \n",
              "700                          0.0145  ...                     0.0145   \n",
              "701                          0.0625  ...                     0.0625   \n",
              "\n",
              "     각도2 <- 각도[XYPLAN]:직선23와 직선24,Ang  점29 <- 점13의 되부름 <소재원점>,X  \\\n",
              "0                              0.0260                    0.0260   \n",
              "1                              0.0375                    0.0375   \n",
              "2                              0.0280                    0.0280   \n",
              "3                              0.0215                    0.0215   \n",
              "4                              0.0060                    0.0060   \n",
              "..                                ...                       ...   \n",
              "697                            0.0250                    0.0250   \n",
              "698                            0.0170                    0.0170   \n",
              "699                            0.0100                    0.0100   \n",
              "700                            0.0145                    0.0145   \n",
              "701                            0.0625                    0.0625   \n",
              "\n",
              "     점29 <- 점13의 되부름 <소재원점>,Y  점30 <- 점18의 되부름 <소재원점>,X  \\\n",
              "0                      0.0260                    0.0260   \n",
              "1                      0.0375                    0.0375   \n",
              "2                      0.0280                    0.0280   \n",
              "3                      0.0215                    0.0215   \n",
              "4                      0.0060                    0.0060   \n",
              "..                        ...                       ...   \n",
              "697                    0.0250                    0.0250   \n",
              "698                    0.0170                    0.0170   \n",
              "699                    0.0100                    0.0100   \n",
              "700                    0.0145                    0.0145   \n",
              "701                    0.0625                    0.0625   \n",
              "\n",
              "     점30 <- 점18의 되부름 <소재원점>,Y  직선25 <- 직선18의 되부름,X/Y  직선26 <- 직선16의 되부름,X/Y  \\\n",
              "0                      0.0260                 0.0260                 0.0260   \n",
              "1                      0.0375                 0.0375                 0.0375   \n",
              "2                      0.0280                 0.0280                 0.0280   \n",
              "3                      0.0215                 0.0215                 0.0215   \n",
              "4                      0.0060                 0.0060                 0.0060   \n",
              "..                        ...                    ...                    ...   \n",
              "697                    0.0250                 0.0250                 0.0250   \n",
              "698                    0.0170                 0.0170                 0.0170   \n",
              "699                    0.0100                 0.0100                 0.0100   \n",
              "700                    0.0145                 0.0145                 0.0145   \n",
              "701                    0.0625                 0.0625                 0.0625   \n",
              "\n",
              "     거리4 <- XAXIS[평균]:점32와 점31 <소재기준>,DS  품질상태  \n",
              "0                                 0.0260   1.0  \n",
              "1                                 0.0375   1.0  \n",
              "2                                 0.0280   1.0  \n",
              "3                                 0.0215   0.0  \n",
              "4                                 0.0060   1.0  \n",
              "..                                   ...   ...  \n",
              "697                               0.0250   1.0  \n",
              "698                               0.0170   1.0  \n",
              "699                               0.0100   1.0  \n",
              "700                               0.0145   0.0  \n",
              "701                               0.0625   0.0  \n",
              "\n",
              "[702 rows x 66 columns]"
            ],
            "text/html": [
              "\n",
              "  <div id=\"df-b7dbb724-d618-45b0-a969-f91d97517729\" class=\"colab-df-container\">\n",
              "    <div>\n",
              "<style scoped>\n",
              "    .dataframe tbody tr th:only-of-type {\n",
              "        vertical-align: middle;\n",
              "    }\n",
              "\n",
              "    .dataframe tbody tr th {\n",
              "        vertical-align: top;\n",
              "    }\n",
              "\n",
              "    .dataframe thead th {\n",
              "        text-align: right;\n",
              "    }\n",
              "</style>\n",
              "<table border=\"1\" class=\"dataframe\">\n",
              "  <thead>\n",
              "    <tr style=\"text-align: right;\">\n",
              "      <th></th>\n",
              "      <th>평면1,평면도</th>\n",
              "      <th>원1(I) &lt;상&gt;,D</th>\n",
              "      <th>원2(I) &lt;중&gt;,D</th>\n",
              "      <th>원3(I) &lt;하&gt;,D</th>\n",
              "      <th>원통1(I) &lt;- 원1, 원2, 원3의 측정점 병합,D</th>\n",
              "      <th>원통1(I) &lt;- 원1, 원2, 원3의 측정점 병합,원통도</th>\n",
              "      <th>원통1(I) &lt;- 원1, 원2, 원3의 측정점 병합,직각도</th>\n",
              "      <th>점2 &lt;- 점1의 되부름 &lt;열전 관리치수(Spec : 116.6±0.1)&gt;,X</th>\n",
              "      <th>점2 &lt;- 점1의 되부름 &lt;열전 관리치수(Spec : 116.6±0.1)&gt;,Y</th>\n",
              "      <th>각도1 &lt;- 각도[XYPLAN]:직선2와 직선3,Ang</th>\n",
              "      <th>...</th>\n",
              "      <th>점28 &lt;- 점27의 되부름 &lt;소재 원점&gt;,Y</th>\n",
              "      <th>각도2 &lt;- 각도[XYPLAN]:직선23와 직선24,Ang</th>\n",
              "      <th>점29 &lt;- 점13의 되부름 &lt;소재원점&gt;,X</th>\n",
              "      <th>점29 &lt;- 점13의 되부름 &lt;소재원점&gt;,Y</th>\n",
              "      <th>점30 &lt;- 점18의 되부름 &lt;소재원점&gt;,X</th>\n",
              "      <th>점30 &lt;- 점18의 되부름 &lt;소재원점&gt;,Y</th>\n",
              "      <th>직선25 &lt;- 직선18의 되부름,X/Y</th>\n",
              "      <th>직선26 &lt;- 직선16의 되부름,X/Y</th>\n",
              "      <th>거리4 &lt;- XAXIS[평균]:점32와 점31 &lt;소재기준&gt;,DS</th>\n",
              "      <th>품질상태</th>\n",
              "    </tr>\n",
              "  </thead>\n",
              "  <tbody>\n",
              "    <tr>\n",
              "      <th>0</th>\n",
              "      <td>0.0260</td>\n",
              "      <td>0.0260</td>\n",
              "      <td>0.0260</td>\n",
              "      <td>0.0260</td>\n",
              "      <td>0.0260</td>\n",
              "      <td>0.0260</td>\n",
              "      <td>0.0260</td>\n",
              "      <td>0.0260</td>\n",
              "      <td>0.0260</td>\n",
              "      <td>0.0260</td>\n",
              "      <td>...</td>\n",
              "      <td>0.0260</td>\n",
              "      <td>0.0260</td>\n",
              "      <td>0.0260</td>\n",
              "      <td>0.0260</td>\n",
              "      <td>0.0260</td>\n",
              "      <td>0.0260</td>\n",
              "      <td>0.0260</td>\n",
              "      <td>0.0260</td>\n",
              "      <td>0.0260</td>\n",
              "      <td>1.0</td>\n",
              "    </tr>\n",
              "    <tr>\n",
              "      <th>1</th>\n",
              "      <td>0.0375</td>\n",
              "      <td>0.0375</td>\n",
              "      <td>0.0375</td>\n",
              "      <td>0.0375</td>\n",
              "      <td>0.0375</td>\n",
              "      <td>0.0375</td>\n",
              "      <td>0.0375</td>\n",
              "      <td>0.0375</td>\n",
              "      <td>0.0375</td>\n",
              "      <td>0.0375</td>\n",
              "      <td>...</td>\n",
              "      <td>0.0375</td>\n",
              "      <td>0.0375</td>\n",
              "      <td>0.0375</td>\n",
              "      <td>0.0375</td>\n",
              "      <td>0.0375</td>\n",
              "      <td>0.0375</td>\n",
              "      <td>0.0375</td>\n",
              "      <td>0.0375</td>\n",
              "      <td>0.0375</td>\n",
              "      <td>1.0</td>\n",
              "    </tr>\n",
              "    <tr>\n",
              "      <th>2</th>\n",
              "      <td>0.0280</td>\n",
              "      <td>0.0280</td>\n",
              "      <td>0.0280</td>\n",
              "      <td>0.0280</td>\n",
              "      <td>0.0280</td>\n",
              "      <td>0.0280</td>\n",
              "      <td>0.0280</td>\n",
              "      <td>0.0280</td>\n",
              "      <td>0.0280</td>\n",
              "      <td>0.0280</td>\n",
              "      <td>...</td>\n",
              "      <td>0.0280</td>\n",
              "      <td>0.0280</td>\n",
              "      <td>0.0280</td>\n",
              "      <td>0.0280</td>\n",
              "      <td>0.0280</td>\n",
              "      <td>0.0280</td>\n",
              "      <td>0.0280</td>\n",
              "      <td>0.0280</td>\n",
              "      <td>0.0280</td>\n",
              "      <td>1.0</td>\n",
              "    </tr>\n",
              "    <tr>\n",
              "      <th>3</th>\n",
              "      <td>0.0215</td>\n",
              "      <td>0.0215</td>\n",
              "      <td>0.0215</td>\n",
              "      <td>0.0215</td>\n",
              "      <td>0.0215</td>\n",
              "      <td>0.0215</td>\n",
              "      <td>0.0215</td>\n",
              "      <td>0.0215</td>\n",
              "      <td>0.0215</td>\n",
              "      <td>0.0215</td>\n",
              "      <td>...</td>\n",
              "      <td>0.0215</td>\n",
              "      <td>0.0215</td>\n",
              "      <td>0.0215</td>\n",
              "      <td>0.0215</td>\n",
              "      <td>0.0215</td>\n",
              "      <td>0.0215</td>\n",
              "      <td>0.0215</td>\n",
              "      <td>0.0215</td>\n",
              "      <td>0.0215</td>\n",
              "      <td>0.0</td>\n",
              "    </tr>\n",
              "    <tr>\n",
              "      <th>4</th>\n",
              "      <td>0.0060</td>\n",
              "      <td>0.0060</td>\n",
              "      <td>0.0060</td>\n",
              "      <td>0.0060</td>\n",
              "      <td>0.0060</td>\n",
              "      <td>0.0060</td>\n",
              "      <td>0.0060</td>\n",
              "      <td>0.0060</td>\n",
              "      <td>0.0060</td>\n",
              "      <td>0.0060</td>\n",
              "      <td>...</td>\n",
              "      <td>0.0060</td>\n",
              "      <td>0.0060</td>\n",
              "      <td>0.0060</td>\n",
              "      <td>0.0060</td>\n",
              "      <td>0.0060</td>\n",
              "      <td>0.0060</td>\n",
              "      <td>0.0060</td>\n",
              "      <td>0.0060</td>\n",
              "      <td>0.0060</td>\n",
              "      <td>1.0</td>\n",
              "    </tr>\n",
              "    <tr>\n",
              "      <th>...</th>\n",
              "      <td>...</td>\n",
              "      <td>...</td>\n",
              "      <td>...</td>\n",
              "      <td>...</td>\n",
              "      <td>...</td>\n",
              "      <td>...</td>\n",
              "      <td>...</td>\n",
              "      <td>...</td>\n",
              "      <td>...</td>\n",
              "      <td>...</td>\n",
              "      <td>...</td>\n",
              "      <td>...</td>\n",
              "      <td>...</td>\n",
              "      <td>...</td>\n",
              "      <td>...</td>\n",
              "      <td>...</td>\n",
              "      <td>...</td>\n",
              "      <td>...</td>\n",
              "      <td>...</td>\n",
              "      <td>...</td>\n",
              "      <td>...</td>\n",
              "    </tr>\n",
              "    <tr>\n",
              "      <th>697</th>\n",
              "      <td>0.0250</td>\n",
              "      <td>0.0250</td>\n",
              "      <td>0.0250</td>\n",
              "      <td>0.0250</td>\n",
              "      <td>0.0250</td>\n",
              "      <td>0.0250</td>\n",
              "      <td>0.0250</td>\n",
              "      <td>0.0250</td>\n",
              "      <td>0.0250</td>\n",
              "      <td>0.0250</td>\n",
              "      <td>...</td>\n",
              "      <td>0.0250</td>\n",
              "      <td>0.0250</td>\n",
              "      <td>0.0250</td>\n",
              "      <td>0.0250</td>\n",
              "      <td>0.0250</td>\n",
              "      <td>0.0250</td>\n",
              "      <td>0.0250</td>\n",
              "      <td>0.0250</td>\n",
              "      <td>0.0250</td>\n",
              "      <td>1.0</td>\n",
              "    </tr>\n",
              "    <tr>\n",
              "      <th>698</th>\n",
              "      <td>0.0170</td>\n",
              "      <td>0.0170</td>\n",
              "      <td>0.0170</td>\n",
              "      <td>0.0170</td>\n",
              "      <td>0.0170</td>\n",
              "      <td>0.0170</td>\n",
              "      <td>0.0170</td>\n",
              "      <td>0.0170</td>\n",
              "      <td>0.0170</td>\n",
              "      <td>0.0170</td>\n",
              "      <td>...</td>\n",
              "      <td>0.0170</td>\n",
              "      <td>0.0170</td>\n",
              "      <td>0.0170</td>\n",
              "      <td>0.0170</td>\n",
              "      <td>0.0170</td>\n",
              "      <td>0.0170</td>\n",
              "      <td>0.0170</td>\n",
              "      <td>0.0170</td>\n",
              "      <td>0.0170</td>\n",
              "      <td>1.0</td>\n",
              "    </tr>\n",
              "    <tr>\n",
              "      <th>699</th>\n",
              "      <td>0.0100</td>\n",
              "      <td>0.0100</td>\n",
              "      <td>0.0100</td>\n",
              "      <td>0.0100</td>\n",
              "      <td>0.0100</td>\n",
              "      <td>0.0100</td>\n",
              "      <td>0.0100</td>\n",
              "      <td>0.0100</td>\n",
              "      <td>0.0100</td>\n",
              "      <td>0.0100</td>\n",
              "      <td>...</td>\n",
              "      <td>0.0100</td>\n",
              "      <td>0.0100</td>\n",
              "      <td>0.0100</td>\n",
              "      <td>0.0100</td>\n",
              "      <td>0.0100</td>\n",
              "      <td>0.0100</td>\n",
              "      <td>0.0100</td>\n",
              "      <td>0.0100</td>\n",
              "      <td>0.0100</td>\n",
              "      <td>1.0</td>\n",
              "    </tr>\n",
              "    <tr>\n",
              "      <th>700</th>\n",
              "      <td>0.0145</td>\n",
              "      <td>0.0145</td>\n",
              "      <td>0.0145</td>\n",
              "      <td>0.0145</td>\n",
              "      <td>0.0145</td>\n",
              "      <td>0.0145</td>\n",
              "      <td>0.0145</td>\n",
              "      <td>0.0145</td>\n",
              "      <td>0.0145</td>\n",
              "      <td>0.0145</td>\n",
              "      <td>...</td>\n",
              "      <td>0.0145</td>\n",
              "      <td>0.0145</td>\n",
              "      <td>0.0145</td>\n",
              "      <td>0.0145</td>\n",
              "      <td>0.0145</td>\n",
              "      <td>0.0145</td>\n",
              "      <td>0.0145</td>\n",
              "      <td>0.0145</td>\n",
              "      <td>0.0145</td>\n",
              "      <td>0.0</td>\n",
              "    </tr>\n",
              "    <tr>\n",
              "      <th>701</th>\n",
              "      <td>0.0625</td>\n",
              "      <td>0.0625</td>\n",
              "      <td>0.0625</td>\n",
              "      <td>0.0625</td>\n",
              "      <td>0.0625</td>\n",
              "      <td>0.0625</td>\n",
              "      <td>0.0625</td>\n",
              "      <td>0.0625</td>\n",
              "      <td>0.0625</td>\n",
              "      <td>0.0625</td>\n",
              "      <td>...</td>\n",
              "      <td>0.0625</td>\n",
              "      <td>0.0625</td>\n",
              "      <td>0.0625</td>\n",
              "      <td>0.0625</td>\n",
              "      <td>0.0625</td>\n",
              "      <td>0.0625</td>\n",
              "      <td>0.0625</td>\n",
              "      <td>0.0625</td>\n",
              "      <td>0.0625</td>\n",
              "      <td>0.0</td>\n",
              "    </tr>\n",
              "  </tbody>\n",
              "</table>\n",
              "<p>702 rows × 66 columns</p>\n",
              "</div>\n",
              "    <div class=\"colab-df-buttons\">\n",
              "\n",
              "  <div class=\"colab-df-container\">\n",
              "    <button class=\"colab-df-convert\" onclick=\"convertToInteractive('df-b7dbb724-d618-45b0-a969-f91d97517729')\"\n",
              "            title=\"Convert this dataframe to an interactive table.\"\n",
              "            style=\"display:none;\">\n",
              "\n",
              "  <svg xmlns=\"http://www.w3.org/2000/svg\" height=\"24px\" viewBox=\"0 -960 960 960\">\n",
              "    <path d=\"M120-120v-720h720v720H120Zm60-500h600v-160H180v160Zm220 220h160v-160H400v160Zm0 220h160v-160H400v160ZM180-400h160v-160H180v160Zm440 0h160v-160H620v160ZM180-180h160v-160H180v160Zm440 0h160v-160H620v160Z\"/>\n",
              "  </svg>\n",
              "    </button>\n",
              "\n",
              "  <style>\n",
              "    .colab-df-container {\n",
              "      display:flex;\n",
              "      gap: 12px;\n",
              "    }\n",
              "\n",
              "    .colab-df-convert {\n",
              "      background-color: #E8F0FE;\n",
              "      border: none;\n",
              "      border-radius: 50%;\n",
              "      cursor: pointer;\n",
              "      display: none;\n",
              "      fill: #1967D2;\n",
              "      height: 32px;\n",
              "      padding: 0 0 0 0;\n",
              "      width: 32px;\n",
              "    }\n",
              "\n",
              "    .colab-df-convert:hover {\n",
              "      background-color: #E2EBFA;\n",
              "      box-shadow: 0px 1px 2px rgba(60, 64, 67, 0.3), 0px 1px 3px 1px rgba(60, 64, 67, 0.15);\n",
              "      fill: #174EA6;\n",
              "    }\n",
              "\n",
              "    .colab-df-buttons div {\n",
              "      margin-bottom: 4px;\n",
              "    }\n",
              "\n",
              "    [theme=dark] .colab-df-convert {\n",
              "      background-color: #3B4455;\n",
              "      fill: #D2E3FC;\n",
              "    }\n",
              "\n",
              "    [theme=dark] .colab-df-convert:hover {\n",
              "      background-color: #434B5C;\n",
              "      box-shadow: 0px 1px 3px 1px rgba(0, 0, 0, 0.15);\n",
              "      filter: drop-shadow(0px 1px 2px rgba(0, 0, 0, 0.3));\n",
              "      fill: #FFFFFF;\n",
              "    }\n",
              "  </style>\n",
              "\n",
              "    <script>\n",
              "      const buttonEl =\n",
              "        document.querySelector('#df-b7dbb724-d618-45b0-a969-f91d97517729 button.colab-df-convert');\n",
              "      buttonEl.style.display =\n",
              "        google.colab.kernel.accessAllowed ? 'block' : 'none';\n",
              "\n",
              "      async function convertToInteractive(key) {\n",
              "        const element = document.querySelector('#df-b7dbb724-d618-45b0-a969-f91d97517729');\n",
              "        const dataTable =\n",
              "          await google.colab.kernel.invokeFunction('convertToInteractive',\n",
              "                                                    [key], {});\n",
              "        if (!dataTable) return;\n",
              "\n",
              "        const docLinkHtml = 'Like what you see? Visit the ' +\n",
              "          '<a target=\"_blank\" href=https://colab.research.google.com/notebooks/data_table.ipynb>data table notebook</a>'\n",
              "          + ' to learn more about interactive tables.';\n",
              "        element.innerHTML = '';\n",
              "        dataTable['output_type'] = 'display_data';\n",
              "        await google.colab.output.renderOutput(dataTable, element);\n",
              "        const docLink = document.createElement('div');\n",
              "        docLink.innerHTML = docLinkHtml;\n",
              "        element.appendChild(docLink);\n",
              "      }\n",
              "    </script>\n",
              "  </div>\n",
              "\n",
              "\n",
              "<div id=\"df-34dbc89c-032b-4e14-a3f4-6b9c7760fb69\">\n",
              "  <button class=\"colab-df-quickchart\" onclick=\"quickchart('df-34dbc89c-032b-4e14-a3f4-6b9c7760fb69')\"\n",
              "            title=\"Suggest charts\"\n",
              "            style=\"display:none;\">\n",
              "\n",
              "<svg xmlns=\"http://www.w3.org/2000/svg\" height=\"24px\"viewBox=\"0 0 24 24\"\n",
              "     width=\"24px\">\n",
              "    <g>\n",
              "        <path d=\"M19 3H5c-1.1 0-2 .9-2 2v14c0 1.1.9 2 2 2h14c1.1 0 2-.9 2-2V5c0-1.1-.9-2-2-2zM9 17H7v-7h2v7zm4 0h-2V7h2v10zm4 0h-2v-4h2v4z\"/>\n",
              "    </g>\n",
              "</svg>\n",
              "  </button>\n",
              "\n",
              "<style>\n",
              "  .colab-df-quickchart {\n",
              "      --bg-color: #E8F0FE;\n",
              "      --fill-color: #1967D2;\n",
              "      --hover-bg-color: #E2EBFA;\n",
              "      --hover-fill-color: #174EA6;\n",
              "      --disabled-fill-color: #AAA;\n",
              "      --disabled-bg-color: #DDD;\n",
              "  }\n",
              "\n",
              "  [theme=dark] .colab-df-quickchart {\n",
              "      --bg-color: #3B4455;\n",
              "      --fill-color: #D2E3FC;\n",
              "      --hover-bg-color: #434B5C;\n",
              "      --hover-fill-color: #FFFFFF;\n",
              "      --disabled-bg-color: #3B4455;\n",
              "      --disabled-fill-color: #666;\n",
              "  }\n",
              "\n",
              "  .colab-df-quickchart {\n",
              "    background-color: var(--bg-color);\n",
              "    border: none;\n",
              "    border-radius: 50%;\n",
              "    cursor: pointer;\n",
              "    display: none;\n",
              "    fill: var(--fill-color);\n",
              "    height: 32px;\n",
              "    padding: 0;\n",
              "    width: 32px;\n",
              "  }\n",
              "\n",
              "  .colab-df-quickchart:hover {\n",
              "    background-color: var(--hover-bg-color);\n",
              "    box-shadow: 0 1px 2px rgba(60, 64, 67, 0.3), 0 1px 3px 1px rgba(60, 64, 67, 0.15);\n",
              "    fill: var(--button-hover-fill-color);\n",
              "  }\n",
              "\n",
              "  .colab-df-quickchart-complete:disabled,\n",
              "  .colab-df-quickchart-complete:disabled:hover {\n",
              "    background-color: var(--disabled-bg-color);\n",
              "    fill: var(--disabled-fill-color);\n",
              "    box-shadow: none;\n",
              "  }\n",
              "\n",
              "  .colab-df-spinner {\n",
              "    border: 2px solid var(--fill-color);\n",
              "    border-color: transparent;\n",
              "    border-bottom-color: var(--fill-color);\n",
              "    animation:\n",
              "      spin 1s steps(1) infinite;\n",
              "  }\n",
              "\n",
              "  @keyframes spin {\n",
              "    0% {\n",
              "      border-color: transparent;\n",
              "      border-bottom-color: var(--fill-color);\n",
              "      border-left-color: var(--fill-color);\n",
              "    }\n",
              "    20% {\n",
              "      border-color: transparent;\n",
              "      border-left-color: var(--fill-color);\n",
              "      border-top-color: var(--fill-color);\n",
              "    }\n",
              "    30% {\n",
              "      border-color: transparent;\n",
              "      border-left-color: var(--fill-color);\n",
              "      border-top-color: var(--fill-color);\n",
              "      border-right-color: var(--fill-color);\n",
              "    }\n",
              "    40% {\n",
              "      border-color: transparent;\n",
              "      border-right-color: var(--fill-color);\n",
              "      border-top-color: var(--fill-color);\n",
              "    }\n",
              "    60% {\n",
              "      border-color: transparent;\n",
              "      border-right-color: var(--fill-color);\n",
              "    }\n",
              "    80% {\n",
              "      border-color: transparent;\n",
              "      border-right-color: var(--fill-color);\n",
              "      border-bottom-color: var(--fill-color);\n",
              "    }\n",
              "    90% {\n",
              "      border-color: transparent;\n",
              "      border-bottom-color: var(--fill-color);\n",
              "    }\n",
              "  }\n",
              "</style>\n",
              "\n",
              "  <script>\n",
              "    async function quickchart(key) {\n",
              "      const quickchartButtonEl =\n",
              "        document.querySelector('#' + key + ' button');\n",
              "      quickchartButtonEl.disabled = true;  // To prevent multiple clicks.\n",
              "      quickchartButtonEl.classList.add('colab-df-spinner');\n",
              "      try {\n",
              "        const charts = await google.colab.kernel.invokeFunction(\n",
              "            'suggestCharts', [key], {});\n",
              "      } catch (error) {\n",
              "        console.error('Error during call to suggestCharts:', error);\n",
              "      }\n",
              "      quickchartButtonEl.classList.remove('colab-df-spinner');\n",
              "      quickchartButtonEl.classList.add('colab-df-quickchart-complete');\n",
              "    }\n",
              "    (() => {\n",
              "      let quickchartButtonEl =\n",
              "        document.querySelector('#df-34dbc89c-032b-4e14-a3f4-6b9c7760fb69 button');\n",
              "      quickchartButtonEl.style.display =\n",
              "        google.colab.kernel.accessAllowed ? 'block' : 'none';\n",
              "    })();\n",
              "  </script>\n",
              "</div>\n",
              "    </div>\n",
              "  </div>\n"
            ],
            "application/vnd.google.colaboratory.intrinsic+json": {
              "type": "dataframe",
              "variable_name": "data_imputed"
            }
          },
          "metadata": {},
          "execution_count": 85
        }
      ]
    },
    {
      "cell_type": "markdown",
      "source": [
        "## 여러 모델 학습(Clustering)"
      ],
      "metadata": {
        "id": "ZNRJzwzq-w9u"
      }
    },
    {
      "cell_type": "code",
      "source": [
        "# 데이터를 훈련 세트와 테스트 세트로 분할\n",
        "X_train, X_test, y_train, y_test = train_test_split(X, y, test_size=0.2, random_state=42)\n",
        "\n",
        "# 특성 표준화\n",
        "scaler = StandardScaler()\n",
        "X_train = scaler.fit_transform(X_train)\n",
        "X_test = scaler.transform(X_test)\n",
        "\n",
        "# StandardScaler를 사용하여 표준화된 특성을 데이터프레임으로 변환\n",
        "X_train_scaled_df = pd.DataFrame(X_train, columns=X.columns)\n",
        "X_test_scaled_df = pd.DataFrame(X_test, columns=X.columns)\n",
        "\n",
        "# 저장\n",
        "X_train_scaled_df.to_csv('X_train_scaled.csv', index=False)\n",
        "X_test_scaled_df.to_csv('X_test_scaled.csv', index=False)\n",
        "\n",
        "# 클러스터 수 범위 설정\n",
        "cluster_range = range(2, 11)\n",
        "inertia_values = []\n",
        "silhouette_scores = []\n",
        "\n",
        "\n",
        "# 다양한 클러스터 수에 대해 KMeans 모델 훈련 및 평가\n",
        "for n_clusters in cluster_range:\n",
        "    kmeans = KMeans(n_clusters=n_clusters, random_state=42)\n",
        "    kmeans.fit(X_train)\n",
        "    cluster_labels = kmeans.labels_\n",
        "\n",
        "    inertia = kmeans.inertia_\n",
        "    silhouette_avg = silhouette_score(X_train, cluster_labels)\n",
        "\n",
        "    inertia_values.append(inertia)\n",
        "    silhouette_scores.append(silhouette_avg)\n",
        "\n",
        "    print(f\"클러스터 수: {n_clusters}, Inertia: {inertia}, Silhouette Score: {silhouette_avg}\")\n",
        "\n",
        "# Inertia 및 Silhouette Score 시각화\n",
        "plt.figure(figsize=(14, 7))\n",
        "\n",
        "plt.subplot(1, 2, 1)\n",
        "plt.plot(cluster_range, inertia_values, marker='o')\n",
        "plt.xlabel('cluster')\n",
        "plt.ylabel('Inertia')\n",
        "plt.title('cluster - Inertia')\n",
        "\n",
        "plt.subplot(1, 2, 2)\n",
        "plt.plot(cluster_range, silhouette_scores, marker='o')\n",
        "plt.xlabel('cluster')\n",
        "plt.ylabel('Silhouette Score')\n",
        "plt.title('cluster - Silhouette Score')\n",
        "\n",
        "plt.tight_layout()\n",
        "plt.show()"
      ],
      "metadata": {
        "colab": {
          "base_uri": "https://localhost:8080/",
          "height": 1000
        },
        "id": "5Dfh732NFn5Y",
        "outputId": "2ea9cb2d-eebc-42d4-a9b2-081b4d816826"
      },
      "execution_count": null,
      "outputs": [
        {
          "output_type": "stream",
          "name": "stderr",
          "text": [
            "/usr/local/lib/python3.10/dist-packages/sklearn/cluster/_kmeans.py:870: FutureWarning: The default value of `n_init` will change from 10 to 'auto' in 1.4. Set the value of `n_init` explicitly to suppress the warning\n",
            "  warnings.warn(\n"
          ]
        },
        {
          "output_type": "stream",
          "name": "stdout",
          "text": [
            "클러스터 수: 2, Inertia: 14286.162687182445, Silhouette Score: 0.8425121496802458\n"
          ]
        },
        {
          "output_type": "stream",
          "name": "stderr",
          "text": [
            "/usr/local/lib/python3.10/dist-packages/sklearn/cluster/_kmeans.py:870: FutureWarning: The default value of `n_init` will change from 10 to 'auto' in 1.4. Set the value of `n_init` explicitly to suppress the warning\n",
            "  warnings.warn(\n"
          ]
        },
        {
          "output_type": "stream",
          "name": "stdout",
          "text": [
            "클러스터 수: 3, Inertia: 6748.927542013705, Silhouette Score: 0.717771149240789\n"
          ]
        },
        {
          "output_type": "stream",
          "name": "stderr",
          "text": [
            "/usr/local/lib/python3.10/dist-packages/sklearn/cluster/_kmeans.py:870: FutureWarning: The default value of `n_init` will change from 10 to 'auto' in 1.4. Set the value of `n_init` explicitly to suppress the warning\n",
            "  warnings.warn(\n"
          ]
        },
        {
          "output_type": "stream",
          "name": "stdout",
          "text": [
            "클러스터 수: 4, Inertia: 3906.175301218452, Silhouette Score: 0.6032528403869403\n",
            "클러스터 수: 5, Inertia: 2587.015448814379, Silhouette Score: 0.5448630237037034\n"
          ]
        },
        {
          "output_type": "stream",
          "name": "stderr",
          "text": [
            "/usr/local/lib/python3.10/dist-packages/sklearn/cluster/_kmeans.py:870: FutureWarning: The default value of `n_init` will change from 10 to 'auto' in 1.4. Set the value of `n_init` explicitly to suppress the warning\n",
            "  warnings.warn(\n",
            "/usr/local/lib/python3.10/dist-packages/sklearn/cluster/_kmeans.py:870: FutureWarning: The default value of `n_init` will change from 10 to 'auto' in 1.4. Set the value of `n_init` explicitly to suppress the warning\n",
            "  warnings.warn(\n"
          ]
        },
        {
          "output_type": "stream",
          "name": "stdout",
          "text": [
            "클러스터 수: 6, Inertia: 1760.921349141053, Silhouette Score: 0.538385690089408\n"
          ]
        },
        {
          "output_type": "stream",
          "name": "stderr",
          "text": [
            "/usr/local/lib/python3.10/dist-packages/sklearn/cluster/_kmeans.py:870: FutureWarning: The default value of `n_init` will change from 10 to 'auto' in 1.4. Set the value of `n_init` explicitly to suppress the warning\n",
            "  warnings.warn(\n"
          ]
        },
        {
          "output_type": "stream",
          "name": "stdout",
          "text": [
            "클러스터 수: 7, Inertia: 1254.6110971786577, Silhouette Score: 0.5314479687780981\n"
          ]
        },
        {
          "output_type": "stream",
          "name": "stderr",
          "text": [
            "/usr/local/lib/python3.10/dist-packages/sklearn/cluster/_kmeans.py:870: FutureWarning: The default value of `n_init` will change from 10 to 'auto' in 1.4. Set the value of `n_init` explicitly to suppress the warning\n",
            "  warnings.warn(\n"
          ]
        },
        {
          "output_type": "stream",
          "name": "stdout",
          "text": [
            "클러스터 수: 8, Inertia: 894.1734256522955, Silhouette Score: 0.5340361437099848\n"
          ]
        },
        {
          "output_type": "stream",
          "name": "stderr",
          "text": [
            "/usr/local/lib/python3.10/dist-packages/sklearn/cluster/_kmeans.py:870: FutureWarning: The default value of `n_init` will change from 10 to 'auto' in 1.4. Set the value of `n_init` explicitly to suppress the warning\n",
            "  warnings.warn(\n"
          ]
        },
        {
          "output_type": "stream",
          "name": "stdout",
          "text": [
            "클러스터 수: 9, Inertia: 715.8764788948718, Silhouette Score: 0.5100312668068615\n"
          ]
        },
        {
          "output_type": "stream",
          "name": "stderr",
          "text": [
            "/usr/local/lib/python3.10/dist-packages/sklearn/cluster/_kmeans.py:870: FutureWarning: The default value of `n_init` will change from 10 to 'auto' in 1.4. Set the value of `n_init` explicitly to suppress the warning\n",
            "  warnings.warn(\n"
          ]
        },
        {
          "output_type": "stream",
          "name": "stdout",
          "text": [
            "클러스터 수: 10, Inertia: 564.6899262765911, Silhouette Score: 0.5149457518316561\n"
          ]
        },
        {
          "output_type": "display_data",
          "data": {
            "text/plain": [
              "<Figure size 1400x700 with 2 Axes>"
            ],
            "image/png": "[encoded data removed]"
          },
          "metadata": {}
        }
      ]
    },
    {
      "cell_type": "markdown",
      "source": [
        "###평가지표"
      ],
      "metadata": {
        "id": "FtnKlkd9a2e2"
      }
    },
    {
      "cell_type": "code",
      "source": [
        "# silbouette 를 사용하여 최적의 클러스터 수 선택 (다른 클러스터와 비교하여 응집성와 얼마나 유사한지 실루엣 점수로 높을수록 클러스터링 잘됨)\n",
        "optimal_clusters = cluster_range[np.argmax(silhouette_scores)]\n",
        "print(f\"최적의 클러스터 수: {optimal_clusters}\")\n",
        "# 최적의 클러스터 수로 KMeans 모델 훈련\n",
        "kmeans_optimal = KMeans(n_clusters=optimal_clusters, random_state=42)\n",
        "kmeans_optimal.fit(X_test)\n",
        "# 클러스터 할당\n",
        "cluster_labels = kmeans_optimal.labels_\n",
        "\n",
        "# 클러스터링 결과 시각화\n",
        "plt.figure(figsize=(10, 6))\n",
        "plt.scatter(X_test[:, 0], X_test[:, 1], c=cluster_labels, cmap='viridis', marker='o')\n",
        "plt.title(f'KMeans clustering (n: {optimal_clusters})')\n",
        "plt.xlabel('표준화된 특성 1')\n",
        "plt.ylabel('표준화된 특성 2')\n",
        "plt.show()\n",
        "\n",
        "\n",
        "num_dots = len(X_test[:, 0])\n",
        "print(f'Number of Dots: {num_dots}')\n"
      ],
      "metadata": {
        "colab": {
          "base_uri": "https://localhost:8080/",
          "height": 839
        },
        "id": "Lubo_OVqZMxp",
        "outputId": "49483724-12f7-4e04-9501-b89a8014d21b"
      },
      "execution_count": null,
      "outputs": [
        {
          "output_type": "stream",
          "name": "stdout",
          "text": [
            "최적의 클러스터 수: 2\n"
          ]
        },
        {
          "output_type": "stream",
          "name": "stderr",
          "text": [
            "/usr/local/lib/python3.10/dist-packages/sklearn/cluster/_kmeans.py:870: FutureWarning: The default value of `n_init` will change from 10 to 'auto' in 1.4. Set the value of `n_init` explicitly to suppress the warning\n",
            "  warnings.warn(\n",
            "/usr/local/lib/python3.10/dist-packages/IPython/core/pylabtools.py:151: UserWarning: Glyph 54364 (\\N{HANGUL SYLLABLE PYO}) missing from current font.\n",
            "  fig.canvas.print_figure(bytes_io, **kw)\n",
            "/usr/local/lib/python3.10/dist-packages/IPython/core/pylabtools.py:151: UserWarning: Glyph 51456 (\\N{HANGUL SYLLABLE JUN}) missing from current font.\n",
            "  fig.canvas.print_figure(bytes_io, **kw)\n",
            "/usr/local/lib/python3.10/dist-packages/IPython/core/pylabtools.py:151: UserWarning: Glyph 54868 (\\N{HANGUL SYLLABLE HWA}) missing from current font.\n",
            "  fig.canvas.print_figure(bytes_io, **kw)\n",
            "/usr/local/lib/python3.10/dist-packages/IPython/core/pylabtools.py:151: UserWarning: Glyph 46108 (\\N{HANGUL SYLLABLE DOEN}) missing from current font.\n",
            "  fig.canvas.print_figure(bytes_io, **kw)\n",
            "/usr/local/lib/python3.10/dist-packages/IPython/core/pylabtools.py:151: UserWarning: Glyph 53945 (\\N{HANGUL SYLLABLE TEUG}) missing from current font.\n",
            "  fig.canvas.print_figure(bytes_io, **kw)\n",
            "/usr/local/lib/python3.10/dist-packages/IPython/core/pylabtools.py:151: UserWarning: Glyph 49457 (\\N{HANGUL SYLLABLE SEONG}) missing from current font.\n",
            "  fig.canvas.print_figure(bytes_io, **kw)\n"
          ]
        },
        {
          "output_type": "display_data",
          "data": {
            "text/plain": [
              "<Figure size 1000x600 with 1 Axes>"
            ],
            "image/png": "[encoded data removed]"
          },
          "metadata": {}
        }
      ]
    },
    {
      "cell_type": "markdown",
      "source": [
        "### 평가지표"
      ],
      "metadata": {
        "id": "dXPdMJBTblrp"
      }
    },
    {
      "cell_type": "code",
      "source": [
        "# Elbow method를 사용하여 최적의 클러스터 수 선택 (관성값의 차이를 계산하여 감소율이 급격하게 변하는 지점)\n",
        "optimal_clusters = cluster_range[np.argmin(np.diff(inertia_values))]\n",
        "print(f\"최적의 클러스터 수: {optimal_clusters}\")\n",
        "# 최적의 클러스터 수로 KMeans 모델 훈련\n",
        "kmeans_optimal = KMeans(n_clusters=optimal_clusters, random_state=42)\n",
        "kmeans_optimal.fit(X_test)\n",
        "# 클러스터 할당\n",
        "cluster_labels = kmeans_optimal.labels_\n",
        "\n",
        "# 클러스터링 결과 시각화\n",
        "plt.figure(figsize=(10, 6))\n",
        "plt.scatter(X_test[:, 0], X_test[:, 1], c=cluster_labels, cmap='viridis', marker='o')\n",
        "plt.title(f'KMeans clustering (cluster: {optimal_clusters})')\n",
        "plt.xlabel('평면1, 평면도')\n",
        "plt.ylabel('원1(I)<상>,D')\n",
        "plt.show()\n",
        "\n",
        "num_dots = len(X_test[:, 0])\n",
        "print(f'Number of Dots: {num_dots}')"
      ],
      "metadata": {
        "colab": {
          "base_uri": "https://localhost:8080/",
          "height": 841
        },
        "id": "StPIo2cAPfSm",
        "outputId": "ac509b4f-884f-4bba-8954-d0b2074cb080"
      },
      "execution_count": null,
      "outputs": [
        {
          "output_type": "stream",
          "name": "stdout",
          "text": [
            "최적의 클러스터 수: 2\n"
          ]
        },
        {
          "output_type": "stream",
          "name": "stderr",
          "text": [
            "/usr/local/lib/python3.10/dist-packages/sklearn/cluster/_kmeans.py:870: FutureWarning: The default value of `n_init` will change from 10 to 'auto' in 1.4. Set the value of `n_init` explicitly to suppress the warning\n",
            "  warnings.warn(\n",
            "/usr/local/lib/python3.10/dist-packages/IPython/core/pylabtools.py:151: UserWarning: Glyph 50896 (\\N{HANGUL SYLLABLE WEON}) missing from current font.\n",
            "  fig.canvas.print_figure(bytes_io, **kw)\n",
            "/usr/local/lib/python3.10/dist-packages/IPython/core/pylabtools.py:151: UserWarning: Glyph 49345 (\\N{HANGUL SYLLABLE SANG}) missing from current font.\n",
            "  fig.canvas.print_figure(bytes_io, **kw)\n",
            "/usr/local/lib/python3.10/dist-packages/IPython/core/pylabtools.py:151: UserWarning: Glyph 54217 (\\N{HANGUL SYLLABLE PYEONG}) missing from current font.\n",
            "  fig.canvas.print_figure(bytes_io, **kw)\n",
            "/usr/local/lib/python3.10/dist-packages/IPython/core/pylabtools.py:151: UserWarning: Glyph 47732 (\\N{HANGUL SYLLABLE MYEON}) missing from current font.\n",
            "  fig.canvas.print_figure(bytes_io, **kw)\n",
            "/usr/local/lib/python3.10/dist-packages/IPython/core/pylabtools.py:151: UserWarning: Glyph 46020 (\\N{HANGUL SYLLABLE DO}) missing from current font.\n",
            "  fig.canvas.print_figure(bytes_io, **kw)\n"
          ]
        },
        {
          "output_type": "display_data",
          "data": {
            "text/plain": [
              "<Figure size 1000x600 with 1 Axes>"
            ],
            "image/png": "[encoded data removed]"
          },
          "metadata": {}
        },
        {
          "output_type": "stream",
          "name": "stdout",
          "text": [
            "Number of Dots: 141\n"
          ]
        }
      ]
    },
    {
      "cell_type": "code",
      "source": [],
      "metadata": {
        "id": "gs7jOdGAdEaw"
      },
      "execution_count": null,
      "outputs": []
    },
    {
      "cell_type": "code",
      "source": [
        "import numpy as np\n",
        "import matplotlib.pyplot as plt"
      ],
      "metadata": {
        "id": "7dooDPOdc-6n"
      },
      "execution_count": null,
      "outputs": []
    },
    {
      "cell_type": "code",
      "source": [
        "np.random.seed(7)\n",
        "\n",
        "x1 = np.random.standard_normal((100,2))*0.6+np.ones((100,2))\n",
        "x2 = np.random.standard_normal((100,2))*0.5-np.ones((100,2))\n",
        "x3 = np.random.standard_normal((100,2))*0.4-2*np.ones((100,2))+5\n",
        "X = np.concatenate((x1,x2,x3),axis=0)\n",
        "\n",
        "plt.plot(X[:,0],X[:,1],'k.')\n",
        "plt.show()"
      ],
      "metadata": {
        "colab": {
          "base_uri": "https://localhost:8080/",
          "height": 430
        },
        "id": "3XOpdDSJdEOS",
        "outputId": "ef1ed3d0-c916-48e5-9ab6-bc2c2496b185"
      },
      "execution_count": null,
      "outputs": [
        {
          "output_type": "display_data",
          "data": {
            "text/plain": [
              "<Figure size 640x480 with 1 Axes>"
            ],
            "image/png": "[encoded data removed]"
          },
          "metadata": {}
        }
      ]
    },
    {
      "cell_type": "code",
      "source": [
        "from sklearn.cluster import KMeans\n",
        "n = 3\n",
        "k_means = KMeans(n_clusters=n)\n",
        "k_means.fit(X)\n",
        "centroids = k_means.cluster_centers_\n",
        "labels= k_means.labels_\n"
      ],
      "metadata": {
        "colab": {
          "base_uri": "https://localhost:8080/"
        },
        "id": "wuZem_E6dE9F",
        "outputId": "293c7930-92b2-4d36-ce0c-31ae3782af78"
      },
      "execution_count": null,
      "outputs": [
        {
          "output_type": "stream",
          "name": "stderr",
          "text": [
            "/usr/local/lib/python3.10/dist-packages/sklearn/cluster/_kmeans.py:870: FutureWarning: The default value of `n_init` will change from 10 to 'auto' in 1.4. Set the value of `n_init` explicitly to suppress the warning\n",
            "  warnings.warn(\n"
          ]
        }
      ]
    },
    {
      "cell_type": "code",
      "source": [
        "plt.plot(X[labels==0,0],X[labels==0,1],'b.', label='cluster 1')\n",
        "plt.plot(X[labels==1,0],X[labels==1,1],'r.', label='cluster 2')\n",
        "plt.plot(X[labels==2,0],X[labels==2,1],'g.', label='cluster 3')\n",
        "\n",
        "plt.plot(centroids[:,0],centroids[:,1],'mo',markersize=8, label='centroids')\n",
        "\n",
        "plt.legend(loc='best')\n",
        "plt.show()"
      ],
      "metadata": {
        "colab": {
          "base_uri": "https://localhost:8080/",
          "height": 430
        },
        "id": "-BFZezRFdIt_",
        "outputId": "79c6c41e-4753-4ae0-80cf-9eeb40b1e643"
      },
      "execution_count": null,
      "outputs": [
        {
          "output_type": "display_data",
          "data": {
            "text/plain": [
              "<Figure size 640x480 with 1 Axes>"
            ],
            "image/png": "[encoded data removed]"
          },
          "metadata": {}
        }
      ]
    },
    {
      "cell_type": "code",
      "source": [],
      "metadata": {
        "id": "1HJbFyQedOyB"
      },
      "execution_count": null,
      "outputs": []
    }
  ]
}