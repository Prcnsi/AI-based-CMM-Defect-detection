{
  "nbformat": 4,
  "nbformat_minor": 0,
  "metadata": {
    "colab": {
      "provenance": []
    },
    "kernelspec": {
      "name": "python3",
      "display_name": "Python 3"
    },
    "language_info": {
      "name": "python"
    }
  },
  "cells": [
    {
      "cell_type": "code",
      "source": [
        "import pandas as pd\n",
        "import os\n",
        "\n",
        "# Set input and output directories\n",
        "input_directory = \"output\"\n",
        "output_file = \"cmm_data.csv\"\n",
        "\n",
        "# Create an empty list\n",
        "deviation_rows = []\n",
        "quality_status = []\n",
        "all_file_names = []\n",
        "\n",
        "# Flag to track if the first file has been processed\n",
        "first_file_processed = False\n",
        "first_shape_item = None  # To store the shape_item from the first file\n",
        "\n",
        "# Loop through all files in the input directory\n",
        "for filename in os.listdir(input_directory):\n",
        "    if filename.endswith(\".csv\"):\n",
        "        # Read CSV file\n",
        "        file_path = os.path.join(input_directory, filename)\n",
        "        df = pd.read_csv(file_path, delimiter=',', encoding='cp949', index_col=False) # Set index_col=False\n",
        "\n",
        "        # Exclude rows where the value of the 'Item' column is \"SMmf\"\n",
        "        df = df[df['항목'] != \"SMmf\"]\n",
        "\n",
        "        # Create ‘Shape_Item’ column\n",
        "        df['도형_항목'] = df['도형'] + ',' + df['항목']\n",
        "\n",
        "        # Change missing deviation values ​​to 'NaN' instead of '-'\n",
        "        df['편차'] = df['편차'].replace('-', pd.NA)\n",
        "\n",
        "        # Calculate average value for missing deviation values\n",
        "        avg_deviation = pd.to_numeric(df['편차'], errors='coerce').mean(skipna=True) # 'NaN' values ​​are automatically ignored\n",
        "\n",
        "        # Replace missing deviation values ​​with the average value\n",
        "        df['편차'] = df['편차'].fillna(avg_deviation)\n",
        "\n",
        "        # Extract deviation values\n",
        "        deviations = df['편차'].tolist()\n",
        "\n",
        "        # Check if this is the first file\n",
        "        if not first_file_processed:\n",
        "            # Store the shape_item from the first file\n",
        "            first_shape_item = df['도형_항목'].tolist()\n",
        "            first_file_processed = True\n",
        "            continue  # Move to the next file\n",
        "\n",
        "        # Check if the current file has the same structure as the first file\n",
        "        if df['도형_항목'].tolist() != first_shape_item:\n",
        "            print(f\"Skipping file: {filename}. Structure does not match the first file.\")\n",
        "            continue  # Skip processing for this file\n",
        "\n",
        "        # Add quality status column\n",
        "        if df.iloc[1, 16] == 'OK': # If second column is 'OK'\n",
        "            quality_status.append(1)\n",
        "        else:\n",
        "            quality_status.append(0)\n",
        "\n",
        "        # Add to list\n",
        "        deviation_rows.append(deviations)\n",
        "        all_file_names.append(os.path.splitext(filename)[0]) # Save the file name without extension\n",
        "\n",
        "# Create a data frame by arranging deviations as rows and shape_items as columns\n",
        "combined_data = pd.DataFrame(deviation_rows, columns=first_shape_item) # Create a DataFrame using the shape_item from the first file\n",
        "\n",
        "# Add file name as first column\n",
        "combined_data.insert(0, '파일명', all_file_names)\n",
        "\n",
        "# Add quality status column\n",
        "combined_data['품질상태'] = quality_status\n",
        "\n",
        "# Save the results as a CSV file\n",
        "combined_data.to_csv(output_file, encoding='cp949', index=False) # Do not store index\n"
      ],
      "metadata": {
        "colab": {
          "base_uri": "https://localhost:8080/"
        },
        "id": "GvhcnFlD3a6u",
        "outputId": "ab7a8993-afaf-474d-d90b-b11463bdfb6e"
      },
      "execution_count": null,
      "outputs": [
        {
          "output_type": "stream",
          "name": "stdout",
          "text": [
            "Skipping file: 240129_일상검사_주_초_1-6-1.csv. Structure does not match the first file.\n",
            "Skipping file: 240129_일상검사_주_초_1-5-1.csv. Structure does not match the first file.\n",
            "Skipping file: 240423_일상검사_야_초_1-6-1_.csv. Structure does not match the first file.\n",
            "Skipping file: 240118_일상검사_야_중_2-3-1_NG.csv. Structure does not match the first file.\n",
            "Skipping file: 240124_일상검사_주_초_2-3-1.csv. Structure does not match the first file.\n",
            "Skipping file: 240205_일상검사_야_초_2-6-1_OK.csv. Structure does not match the first file.\n",
            "Skipping file: 240117_일상검사_야_중_C24A04H_1-6-1_OK.csv. Structure does not match the first file.\n",
            "Skipping file: 240129_일상검사_주_초_1-3-1.csv. Structure does not match the first file.\n",
            "Skipping file: 240423_일상검사_야_초_1-4-1_.csv. Structure does not match the first file.\n",
            "Skipping file: 240415_일상검사_야_중_1-3-2_.csv. Structure does not match the first file.\n",
            "Skipping file: 240417_일상검사_주_중_1-5-1_OK.csv. Structure does not match the first file.\n",
            "Skipping file: 240129_일상검사_주_초_1-4-1.csv. Structure does not match the first file.\n",
            "Skipping file: 240124_일상검사_주_초_2-6-1_OK.csv. Structure does not match the first file.\n"
          ]
        },
        {
          "output_type": "stream",
          "name": "stderr",
          "text": [
            "<ipython-input-25-a0690a1314cb>:28: SettingWithCopyWarning: \n",
            "A value is trying to be set on a copy of a slice from a DataFrame.\n",
            "Try using .loc[row_indexer,col_indexer] = value instead\n",
            "\n",
            "See the caveats in the documentation: https://pandas.pydata.org/pandas-docs/stable/user_guide/indexing.html#returning-a-view-versus-a-copy\n",
            "  df['도형_항목'] = df['도형'] + ',' + df['항목']\n",
            "<ipython-input-25-a0690a1314cb>:31: SettingWithCopyWarning: \n",
            "A value is trying to be set on a copy of a slice from a DataFrame.\n",
            "Try using .loc[row_indexer,col_indexer] = value instead\n",
            "\n",
            "See the caveats in the documentation: https://pandas.pydata.org/pandas-docs/stable/user_guide/indexing.html#returning-a-view-versus-a-copy\n",
            "  df['편차'] = df['편차'].replace('-', pd.NA)\n",
            "<ipython-input-25-a0690a1314cb>:37: SettingWithCopyWarning: \n",
            "A value is trying to be set on a copy of a slice from a DataFrame.\n",
            "Try using .loc[row_indexer,col_indexer] = value instead\n",
            "\n",
            "See the caveats in the documentation: https://pandas.pydata.org/pandas-docs/stable/user_guide/indexing.html#returning-a-view-versus-a-copy\n",
            "  df['편차'] = df['편차'].fillna(avg_deviation)\n"
          ]
        },
        {
          "output_type": "stream",
          "name": "stdout",
          "text": [
            "Skipping file: 240126_일상검사_주_중_4-4-1_(공구교환).csv. Structure does not match the first file.\n",
            "Skipping file: 240423_일상검사_야_초_1-2-1_.csv. Structure does not match the first file.\n",
            "Skipping file: 240118_일상검사_야_중_2-2-1_OK.csv. Structure does not match the first file.\n",
            "Skipping file: 240423_일상검사_야_초_1-5-1_.csv. Structure does not match the first file.\n"
          ]
        },
        {
          "output_type": "stream",
          "name": "stderr",
          "text": [
            "<ipython-input-25-a0690a1314cb>:28: SettingWithCopyWarning: \n",
            "A value is trying to be set on a copy of a slice from a DataFrame.\n",
            "Try using .loc[row_indexer,col_indexer] = value instead\n",
            "\n",
            "See the caveats in the documentation: https://pandas.pydata.org/pandas-docs/stable/user_guide/indexing.html#returning-a-view-versus-a-copy\n",
            "  df['도형_항목'] = df['도형'] + ',' + df['항목']\n",
            "<ipython-input-25-a0690a1314cb>:31: SettingWithCopyWarning: \n",
            "A value is trying to be set on a copy of a slice from a DataFrame.\n",
            "Try using .loc[row_indexer,col_indexer] = value instead\n",
            "\n",
            "See the caveats in the documentation: https://pandas.pydata.org/pandas-docs/stable/user_guide/indexing.html#returning-a-view-versus-a-copy\n",
            "  df['편차'] = df['편차'].replace('-', pd.NA)\n",
            "<ipython-input-25-a0690a1314cb>:37: SettingWithCopyWarning: \n",
            "A value is trying to be set on a copy of a slice from a DataFrame.\n",
            "Try using .loc[row_indexer,col_indexer] = value instead\n",
            "\n",
            "See the caveats in the documentation: https://pandas.pydata.org/pandas-docs/stable/user_guide/indexing.html#returning-a-view-versus-a-copy\n",
            "  df['편차'] = df['편차'].fillna(avg_deviation)\n"
          ]
        },
        {
          "output_type": "stream",
          "name": "stdout",
          "text": [
            "Skipping file: 240423_일상검사_야_초_1-3-1_.csv. Structure does not match the first file.\n",
            "Skipping file: 220420_일상검사_주_초_1-2-1_OK.csv. Structure does not match the first file.\n",
            "Skipping file: 240403_일상검사_야_초_1-3-1_OK.csv. Structure does not match the first file.\n",
            "Skipping file: 240417_일상검사_주_중_1-6-1_OK.csv. Structure does not match the first file.\n"
          ]
        },
        {
          "output_type": "stream",
          "name": "stderr",
          "text": [
            "<ipython-input-25-a0690a1314cb>:28: SettingWithCopyWarning: \n",
            "A value is trying to be set on a copy of a slice from a DataFrame.\n",
            "Try using .loc[row_indexer,col_indexer] = value instead\n",
            "\n",
            "See the caveats in the documentation: https://pandas.pydata.org/pandas-docs/stable/user_guide/indexing.html#returning-a-view-versus-a-copy\n",
            "  df['도형_항목'] = df['도형'] + ',' + df['항목']\n",
            "<ipython-input-25-a0690a1314cb>:31: SettingWithCopyWarning: \n",
            "A value is trying to be set on a copy of a slice from a DataFrame.\n",
            "Try using .loc[row_indexer,col_indexer] = value instead\n",
            "\n",
            "See the caveats in the documentation: https://pandas.pydata.org/pandas-docs/stable/user_guide/indexing.html#returning-a-view-versus-a-copy\n",
            "  df['편차'] = df['편차'].replace('-', pd.NA)\n",
            "<ipython-input-25-a0690a1314cb>:37: SettingWithCopyWarning: \n",
            "A value is trying to be set on a copy of a slice from a DataFrame.\n",
            "Try using .loc[row_indexer,col_indexer] = value instead\n",
            "\n",
            "See the caveats in the documentation: https://pandas.pydata.org/pandas-docs/stable/user_guide/indexing.html#returning-a-view-versus-a-copy\n",
            "  df['편차'] = df['편차'].fillna(avg_deviation)\n"
          ]
        }
      ]
    },
    {
      "cell_type": "code",
      "source": [],
      "metadata": {
        "id": "UtMTci7q30rR"
      },
      "execution_count": null,
      "outputs": []
    }
  ]
}
